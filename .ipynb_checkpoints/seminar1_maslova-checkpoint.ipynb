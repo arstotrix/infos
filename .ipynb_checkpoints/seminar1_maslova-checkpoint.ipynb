{
 "cells": [
  {
   "cell_type": "code",
   "execution_count": 3,
   "metadata": {},
   "outputs": [],
   "source": [
    "import os\n",
    "import nltk\n",
    "import pymorphy2\n",
    "import string\n",
    "\n",
    "morph = pymorphy2.MorphAnalyzer()\n",
    "\n",
    "json_texts = {}\n",
    "texts = []\n",
    "sting = string.punctuation + '1234567890qwertyuiopasdfghjklzxcvbnm'\n",
    "\n",
    "curr_dir = os.getcwd()\n",
    "curr_dir = os.path.join(curr_dir, 'friends-data')\n",
    "folders = os.listdir(curr_dir)"
   ]
  },
  {
   "cell_type": "code",
   "execution_count": 4,
   "metadata": {},
   "outputs": [],
   "source": [
    "def preprocess(filepath, texts, json_texts):\n",
    "    words = {}\n",
    "    with open(filepath, 'r', encoding = 'UTF-8') as f:   \n",
    "        text = f.read().lower()\n",
    "    text = text[1:]\n",
    "    for s in sting:\n",
    "        text = text.replace(s,'')\n",
    "    pretext = nltk.word_tokenize(text) \n",
    "    for i, p in enumerate(pretext):   \n",
    "        pretext[i] = morph.parse(p)[0][2] \n",
    "        p = pretext[i]\n",
    "        if p not in words:\n",
    "            words[p] = {}\n",
    "            words[p][filepath] = 1\n",
    "        else:\n",
    "            words[p][filepath] += 1\n",
    "    line = ' '.join(pretext) \n",
    "    \n",
    "    texts.append(line)\n",
    "    json_texts.update(words)\n",
    "    \n",
    "    return texts, json_texts\n"
   ]
  },
  {
   "cell_type": "code",
   "execution_count": null,
   "metadata": {},
   "outputs": [],
   "source": [
    "for folder in folders:\n",
    "    localpath = os.path.join(curr_dir, folder)\n",
    "    files = os.listdir(localpath)\n",
    "    for file in files:\n",
    "        filepath = os.path.join(localpath, file)   \n",
    "        texts, json_texts = preprocess(filepath, texts, json_texts)\n",
    "        "
   ]
  },
  {
   "cell_type": "code",
   "execution_count": 7,
   "metadata": {},
   "outputs": [
    {
     "data": {
      "text/plain": [
       "45"
      ]
     },
     "execution_count": 7,
     "metadata": {},
     "output_type": "execute_result"
    }
   ],
   "source": [
    "!pip install sklearn"
   ]
  },
  {
   "cell_type": "code",
   "execution_count": 8,
   "metadata": {},
   "outputs": [
    {
     "name": "stdout",
     "output_type": "stream",
     "text": [
      "Requirement already satisfied: sklearn in c:\\users\\пользователь\\appdata\\local\\programs\\python\\python37-32\\lib\\site-packages (0.0)\n",
      "Requirement already satisfied: scikit-learn in c:\\users\\пользователь\\appdata\\local\\programs\\python\\python37-32\\lib\\site-packages (from sklearn) (0.21.3)\n",
      "Requirement already satisfied: scipy>=0.17.0 in c:\\users\\пользователь\\appdata\\local\\programs\\python\\python37-32\\lib\\site-packages (from scikit-learn->sklearn) (1.1.0)\n",
      "Requirement already satisfied: numpy>=1.11.0 in c:\\users\\пользователь\\appdata\\local\\programs\\python\\python37-32\\lib\\site-packages (from scikit-learn->sklearn) (1.18.1)\n",
      "Requirement already satisfied: joblib>=0.11 in c:\\users\\пользователь\\appdata\\local\\programs\\python\\python37-32\\lib\\site-packages (from scikit-learn->sklearn) (0.13.2)\n"
     ]
    },
    {
     "name": "stderr",
     "output_type": "stream",
     "text": [
      "WARNING: You are using pip version 19.3.1; however, version 20.2.3 is available.\n",
      "You should consider upgrading via the 'python -m pip install --upgrade pip' command.\n"
     ]
    }
   ],
   "source": [
    "from sklearn.feature_extraction.text import CountVectorizer\n",
    "import numpy as np\n",
    "vectorizer = CountVectorizer()\n",
    "X = vectorizer.fit_transform(texts)"
   ]
  },
  {
   "cell_type": "code",
   "execution_count": null,
   "metadata": {},
   "outputs": [],
   "source": []
  }
 ],
 "metadata": {
  "kernelspec": {
   "display_name": "Python 3",
   "language": "python",
   "name": "python3"
  },
  "language_info": {
   "codemirror_mode": {
    "name": "ipython",
    "version": 3
   },
   "file_extension": ".py",
   "mimetype": "text/x-python",
   "name": "python",
   "nbconvert_exporter": "python",
   "pygments_lexer": "ipython3",
   "version": "3.7.0"
  }
 },
 "nbformat": 4,
 "nbformat_minor": 2
}
